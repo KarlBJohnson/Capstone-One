{
 "cells": [
  {
   "cell_type": "code",
   "execution_count": 3,
   "metadata": {},
   "outputs": [],
   "source": [
    "import os\n",
    "from flask import Flask\n",
    "from datetime import datetime, timedelta\n",
    "from urllib.request import urlopen\n",
    "import pprint\n",
    "import requests\n",
    "from bs4 import BeautifulSoup\n",
    "from pymongo import MongoClient\n",
    "import pandas as pd\n",
    "import time"
   ]
  },
  {
   "cell_type": "code",
   "execution_count": 2,
   "metadata": {},
   "outputs": [],
   "source": [
    "def scrape(station, c_date, e_date):\n",
    "    os.mkdir(station)\n",
    "    url = 'https://www.wunderground.com/history/daily/K{}/date/{}-{}-{}'\n",
    "    while c_date != e_date:\n",
    "        formattedUrl = url.format(station, c_date.year, c_date.month, c_date.day)\n",
    "        r = requests.get(formattedURL)\n",
    "        "
   ]
  },
  {
   "cell_type": "code",
   "execution_count": 6,
   "metadata": {},
   "outputs": [
    {
     "name": "stdout",
     "output_type": "stream",
     "text": [
      "https://www.wunderground.com/history/daily/KAUS/date/2014-7-1\n"
     ]
    }
   ],
   "source": [
    "    c_date = datetime(year=2014, month=7, day=1)\n",
    "    e_date = datetime(year=2015, month=7, day=1)\n",
    "    station = \"AUS\"\n",
    "    url = 'https://www.wunderground.com/history/daily/K{}/date/{}-{}-{}'\n",
    "    formattedUrl = url.format(station, c_date.year, c_date.month, c_date.day)\n",
    "    print(formattedUrl)"
   ]
  },
  {
   "cell_type": "code",
   "execution_count": null,
   "metadata": {},
   "outputs": [],
   "source": []
  }
 ],
 "metadata": {
  "kernelspec": {
   "display_name": "Python 3",
   "language": "python",
   "name": "python3"
  },
  "language_info": {
   "codemirror_mode": {
    "name": "ipython",
    "version": 3
   },
   "file_extension": ".py",
   "mimetype": "text/x-python",
   "name": "python",
   "nbconvert_exporter": "python",
   "pygments_lexer": "ipython3",
   "version": "3.7.6"
  }
 },
 "nbformat": 4,
 "nbformat_minor": 4
}
