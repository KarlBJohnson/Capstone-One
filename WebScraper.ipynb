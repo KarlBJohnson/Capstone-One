{
 "cells": [
  {
   "cell_type": "code",
   "execution_count": 1,
   "metadata": {},
   "outputs": [],
   "source": [
    "import os\n",
    "from flask import Flask\n",
    "from datetime import datetime, timedelta\n",
    "from urllib.request import urlopen\n",
    "import pprint\n",
    "import requests\n",
    "from bs4 import BeautifulSoup\n",
    "from pymongo import MongoClient\n",
    "import pandas as pd\n",
    "import time"
   ]
  },
  {
   "cell_type": "code",
   "execution_count": 2,
   "metadata": {},
   "outputs": [],
   "source": [
    "def scrape(station, c_date, e_date):\n",
    "    os.mkdir(station)\n",
    "    url = 'https://www.wunderground.com/history/daily/K{}/date/{}-{}-{}'\n",
    "    while c_date != e_date:\n",
    "        formattedUrl = url.format(station, c_date.year, c_date.month, c_date.day)\n",
    "        r = requests.get(formattedURL)\n",
    "        "
   ]
  },
  {
   "cell_type": "code",
   "execution_count": 6,
   "metadata": {},
   "outputs": [
    {
     "name": "stdout",
     "output_type": "stream",
     "text": [
      "https://www.wunderground.com/history/daily/KAUS/date/2014-7-1\n"
     ]
    }
   ],
   "source": [
    "    c_date = datetime(year=2014, month=7, day=1)\n",
    "    e_date = datetime(year=2015, month=7, day=1)\n",
    "    station = \"AUS\"\n",
    "    url = 'https://www.wunderground.com/history/daily/K{}/date/{}-{}-{}'\n",
    "    formattedUrl = url.format(station, c_date.year, c_date.month, c_date.day)\n",
    "    print(formattedUrl)"
   ]
  },
  {
   "cell_type": "code",
   "execution_count": null,
   "metadata": {},
   "outputs": [],
   "source": [
    "current_date = datetime(year=2014, month=7, day=1)\n",
    "station = \"KAUS\"\n",
    "url = 'https://www.wunderground.com/history/daily/{}/date/{}-{}-{}'\n",
    "formattedUrl = url.format(station, current_date.year, current_date.month, current_date.day)\n",
    "driver = webdriver.Firefox(executable_path='/home/karl/PythonDirectories/geckodriver-v0.26.0-linux64/geckodriver')\n",
    "driver.get(formattedUrl)\n",
    "driver.implicitly_wait(10)\n",
    "\n",
    "\n",
    "#html = requests.get(formattedUrl).text\n",
    "soup = BeautifulSoup(driver.page_source, 'html.parser')\n",
    "print(type(soup))\n",
    "#print(soup)\n",
    "temp = soup.find_all('div', {'class':'summary-table'})\n",
    "#print(temp)\n",
    "weather_data = []\n",
    "for el in temp:\n",
    "    weather_data.append(el.find_all('td', {'class': 'ng-star-inserted'}))\n",
    "print(weather_data)\n",
    "#weather_data_units = soup.find(id='historyTable').find_all('td')\n",
    "ohgod = soup.find_all('td', {'class': 'ng-star-inserted'})\n",
    "print(ohgod)\n",
    "weather_data = weather_data[0]\n",
    "weather_data[1].text"
   ]
  }
 ],
 "metadata": {
  "kernelspec": {
   "display_name": "Python 3",
   "language": "python",
   "name": "python3"
  },
  "language_info": {
   "codemirror_mode": {
    "name": "ipython",
    "version": 3
   },
   "file_extension": ".py",
   "mimetype": "text/x-python",
   "name": "python",
   "nbconvert_exporter": "python",
   "pygments_lexer": "ipython3",
   "version": "3.7.6"
  }
 },
 "nbformat": 4,
 "nbformat_minor": 4
}
